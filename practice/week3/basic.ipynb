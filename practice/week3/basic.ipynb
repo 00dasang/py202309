{
 "cells": [
  {
   "cell_type": "code",
   "execution_count": 5,
   "metadata": {},
   "outputs": [
    {
     "name": "stdout",
     "output_type": "stream",
     "text": [
      "1. current list =  [30, 10, 20, 50, 40]\n",
      "2. append(60) = [30, 10, 20, 50, 40, 60]\n",
      "3. item after pop() =  60\n",
      "4. list after pop() =  [30, 10, 20, 50, 40]\n",
      "5. after sort() =  [10, 20, 30, 40, 50]\n",
      "6. after reverse() =  [50, 40, 30, 20, 10]\n",
      "7. index for 20 =  3\n",
      "8. after insert(2, 222) =  [50, 40, 222, 30, 20, 10]\n",
      "9. after remove(2, 222) =  [50, 40, 30, 20, 10]\n",
      "10. after extend([100, 200, 300]) =  [50, 40, 30, 20, 10, 100, 200, 100]\n",
      "11. the number of 100 =  2\n"
     ]
    }
   ],
   "source": [
    "sample_list = [30, 10, 20, 50, 40]\n",
    "print(\"1. current list = \", sample_list)\n",
    "# 현재 리스트인 sample_list를 출력한다\n",
    "sample_list.append(60)\n",
    "print(\"2. append(60) =\", sample_list)\n",
    "# sample list에 60을 추가한다.\n",
    "print(\"3. item after pop() = \", sample_list.pop())\n",
    "# list의 맨 마지막에 해당하는 항목 제거하고 그 항목이 무엇인지 출력한다.\n",
    "print(\"4. list after pop() = \", sample_list)\n",
    "#pop을 거친 list를 출력한다\n",
    "sample_list.sort()\n",
    "print(\"5. after sort() = \", sample_list)\n",
    "#list를 오름차순으로 정렬한다.\n",
    "sample_list.reverse()\n",
    "print(\"6. after reverse() = \", sample_list)\n",
    "#list를 내림차순으로 정렬한다.\n",
    "print(\"7. index for 20 = \", sample_list.index(20))\n",
    "#해당하는 항목이 list의 몇번째에 위치해 있는지 확인한다\n",
    "sample_list.insert(2,222)\n",
    "print(\"8. after insert(2, 222) = \", sample_list)\n",
    "#왼쪽의 index에 오른쪽의 값을 추가한다. ( index , value )\n",
    "sample_list.remove(222)\n",
    "print(\"9. after remove(2, 222) = \", sample_list)\n",
    "#list에서 오른쪽의 값을 제거한다.\n",
    "new_list = [100, 200, 100]\n",
    "sample_list.extend(new_list)\n",
    "print(\"10. after extend([100, 200, 300]) = \", sample_list)\n",
    "#두 개의 리스트를 합하는 역할이다\n",
    "print(\"11. the number of 100 = \", sample_list.count(100))\n",
    "#리스트에 해당하는 숫자가 몇개있는지 세어주는 역할이다"
   ]
  },
  {
   "cell_type": "code",
   "execution_count": 9,
   "metadata": {},
   "outputs": [
    {
     "name": "stdout",
     "output_type": "stream",
     "text": [
      "turtle bye!\n"
     ]
    }
   ],
   "source": [
    "import turtle\n",
    "t = turtle.Turtle()\n",
    "radius_list = [100, 200, 50]\n",
    "move = 20\n",
    "\n",
    "t.shape(\"turtle\")\n",
    "#i가 0부터 radius_list의 길이와 같아질때까지 아래 3줄을 반복\n",
    "for i in range(0, len(radius_list)):\n",
    "    radius = radius_list[i]\n",
    "    t.circle(radius)\n",
    "    t.fd(move)\n",
    "    \n",
    "turtle.done()\n",
    "try:\n",
    "    turtle.bye()\n",
    "except:\n",
    "    print(\"turtle bye!\")"
   ]
  },
  {
   "cell_type": "code",
   "execution_count": null,
   "metadata": {},
   "outputs": [],
   "source": [
    "#튜플에서는 값을 추가하거나 제거할 수 없다\n",
    "#그래서 del을 이용해서 튜플을 제거한다\n",
    "#append #insert 등을 사용 불가하다\n",
    "#값에 접근하는 것은 가능하다\n",
    "#튜플 자체를 변경하는 것은 불가하다\n",
    "#주로 list에서 사용하는 함수중에서 튜플을 변경하지 않는 것들이 주로 이용가능하다\n",
    "#컴퓨터에서는 0은 false 0이 아닌 모든 숫자는 true라고 반환\n"
   ]
  }
 ],
 "metadata": {
  "kernelspec": {
   "display_name": "Python 3",
   "language": "python",
   "name": "python3"
  },
  "language_info": {
   "codemirror_mode": {
    "name": "ipython",
    "version": 3
   },
   "file_extension": ".py",
   "mimetype": "text/x-python",
   "name": "python",
   "nbconvert_exporter": "python",
   "pygments_lexer": "ipython3",
   "version": "3.8.3"
  }
 },
 "nbformat": 4,
 "nbformat_minor": 4
}
