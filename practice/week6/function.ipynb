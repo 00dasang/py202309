{
 "cells": [
  {
   "cell_type": "code",
   "execution_count": 1,
   "metadata": {},
   "outputs": [
    {
     "name": "stdout",
     "output_type": "stream",
     "text": [
      "** Start Lotto **\n",
      "Number:  4 22 25 26 34 45 "
     ]
    }
   ],
   "source": [
    "#Practice for function\n",
    "#lotto program\n",
    "\n",
    "#import for use the fuction already made\n",
    "import random\n",
    "\n",
    "#definition the fuction for lotto.\n",
    "def get_number():\n",
    "    return random.randrange(1,46)\n",
    "\n",
    "#set the lotto\n",
    "lotto = []\n",
    "num = 0\n",
    "print(\"** Start Lotto **\")\n",
    "\n",
    "#making the lotto\n",
    "while True:\n",
    "    num = get_number()\n",
    "    \n",
    "    if lotto.count(num) == 0:\n",
    "        lotto.append(num)\n",
    "        \n",
    "    if len(lotto) >= 6:\n",
    "        break\n",
    "    \n",
    "#print the lotto number\n",
    "print(\"Number: \", end = ' ')\n",
    "lotto.sort()\n",
    "for number in lotto:\n",
    "    print(number, end=' ')"
   ]
  },
  {
   "cell_type": "code",
   "execution_count": null,
   "metadata": {},
   "outputs": [],
   "source": []
  }
 ],
 "metadata": {
  "kernelspec": {
   "display_name": "Python 3",
   "language": "python",
   "name": "python3"
  },
  "language_info": {
   "codemirror_mode": {
    "name": "ipython",
    "version": 3
   },
   "file_extension": ".py",
   "mimetype": "text/x-python",
   "name": "python",
   "nbconvert_exporter": "python",
   "pygments_lexer": "ipython3",
   "version": "3.8.3"
  }
 },
 "nbformat": 4,
 "nbformat_minor": 4
}
