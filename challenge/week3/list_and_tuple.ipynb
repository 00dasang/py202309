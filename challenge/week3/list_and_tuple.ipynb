{
 "cells": [
  {
   "cell_type": "code",
   "execution_count": 7,
   "metadata": {},
   "outputs": [
    {
     "name": "stdout",
     "output_type": "stream",
     "text": [
      "Enter 1st number: 50\n",
      "Enter 2nd number: 40\n",
      "Enter 3rd number: 90\n",
      "Enter 4th number: 10\n",
      "Enter 5th number: 30\n",
      "max:  90\n",
      "min:  10\n",
      "average:  44.0\n"
     ]
    }
   ],
   "source": [
    "#case라는 list를 생성한다.\n",
    "case = [0,0,0,0,0]\n",
    "#list에 값들을 추가한다.\n",
    "case[0] = int(input(\"Enter 1st number: \"))\n",
    "case[1] = int(input(\"Enter 2nd number: \"))\n",
    "case[2] = int(input(\"Enter 3rd number: \"))\n",
    "case[3] = int(input(\"Enter 4th number: \"))\n",
    "case[4] = int(input(\"Enter 5th number: \"))\n",
    "#case list의 최댓값을 구하고 출력한다\n",
    "print(\"max: \",max(case))\n",
    "#case list의 최솟값을 구하고 출력한다\n",
    "print(\"min: \",min(case))\n",
    "#case list의 평균을 구하고 출력한다\n",
    "print(\"average: \",sum(case)/5)"
   ]
  },
  {
   "cell_type": "code",
   "execution_count": 6,
   "metadata": {},
   "outputs": [
    {
     "ename": "NameError",
     "evalue": "name 'item' is not defined",
     "output_type": "error",
     "traceback": [
      "\u001b[1;31m---------------------------------------------------------------------------\u001b[0m",
      "\u001b[1;31mNameError\u001b[0m                                 Traceback (most recent call last)",
      "\u001b[1;32m<ipython-input-6-9e0c33b5f5b2>\u001b[0m in \u001b[0;36m<module>\u001b[1;34m\u001b[0m\n\u001b[0;32m      2\u001b[0m \u001b[0msinger\u001b[0m \u001b[1;33m=\u001b[0m \u001b[1;33m[\u001b[0m\u001b[1;34m'Nell'\u001b[0m\u001b[1;33m,\u001b[0m\u001b[1;34m'Dasut'\u001b[0m\u001b[1;33m,\u001b[0m\u001b[1;33m]\u001b[0m\u001b[1;33m\u001b[0m\u001b[1;33m\u001b[0m\u001b[0m\n\u001b[0;32m      3\u001b[0m \u001b[1;31m#사용자의 가장 좋아하는 가수 이름을 물어보고 list에 추가한다.\u001b[0m\u001b[1;33m\u001b[0m\u001b[1;33m\u001b[0m\u001b[1;33m\u001b[0m\u001b[0m\n\u001b[1;32m----> 4\u001b[1;33m \u001b[0msinger\u001b[0m\u001b[1;33m.\u001b[0m\u001b[0mappend\u001b[0m\u001b[1;33m(\u001b[0m\u001b[0mitem\u001b[0m\u001b[1;33m)\u001b[0m\u001b[1;33m\u001b[0m\u001b[1;33m\u001b[0m\u001b[0m\n\u001b[0m\u001b[0;32m      5\u001b[0m \u001b[0mitem\u001b[0m \u001b[1;33m=\u001b[0m \u001b[0minput\u001b[0m\u001b[1;33m(\u001b[0m\u001b[1;34m\"What is your favorite singer?\"\u001b[0m\u001b[1;33m)\u001b[0m\u001b[1;33m\u001b[0m\u001b[1;33m\u001b[0m\u001b[0m\n",
      "\u001b[1;31mNameError\u001b[0m: name 'item' is not defined"
     ]
    }
   ],
   "source": [
    "#2명의 가수 이름이 있는 list를 생성한다\n",
    "singer = ['Nell','Dasut',]\n",
    "#사용자의 가장 좋아하는 가수 이름을 물어보고 list에 추가한다.\n",
    "singer.append(item)\n",
    "item = input(\"What is your favorite singer?\")"
   ]
  },
  {
   "cell_type": "code",
   "execution_count": null,
   "metadata": {},
   "outputs": [],
   "source": []
  }
 ],
 "metadata": {
  "kernelspec": {
   "display_name": "Python 3",
   "language": "python",
   "name": "python3"
  },
  "language_info": {
   "codemirror_mode": {
    "name": "ipython",
    "version": 3
   },
   "file_extension": ".py",
   "mimetype": "text/x-python",
   "name": "python",
   "nbconvert_exporter": "python",
   "pygments_lexer": "ipython3",
   "version": "3.8.3"
  }
 },
 "nbformat": 4,
 "nbformat_minor": 4
}
