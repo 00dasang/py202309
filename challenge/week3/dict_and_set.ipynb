{
 "cells": [
  {
   "cell_type": "code",
   "execution_count": 14,
   "metadata": {},
   "outputs": [
    {
     "name": "stdout",
     "output_type": "stream",
     "text": [
      "Enter English number ranging from 1 to 5 : three\n",
      "three is 삼\n"
     ]
    }
   ],
   "source": [
    "#Dictionary (1/2)\n",
    "\n",
    "#create the dictionary about english number and Korean number\n",
    "number = { \"one\" : \"일\" , \"two\" : \"이\" , \"three\" : \"삼\" , \n",
    "          \"four\" : \"사\" , \"five\" : \"오\" }\n",
    "\n",
    "#get the entry value from the users betwenn 1 to 5\n",
    "english = input(\"Enter English number ranging from 1 to 5 : \")\n",
    "\n",
    "#print the corresponding value depending on the user's input\n",
    "korean_number = number[english]\n",
    "\n",
    "#print the result\n",
    "print(english + \" is \" + korean_number)"
   ]
  },
  {
   "cell_type": "code",
   "execution_count": 39,
   "metadata": {},
   "outputs": [
    {
     "name": "stdout",
     "output_type": "stream",
     "text": [
      "Name:  Moving / average:  4.0\n",
      "Name:  Mask Girl / average:  3.6666666666666665\n",
      "Name:  Oppenheimer / average:  3.3333333333333335\n"
     ]
    }
   ],
   "source": [
    "#Dictionary(2/2)\n",
    "\n",
    "#Create a dictionary about the scores\n",
    "ratings = { \"Moving\" : {\"Misoo\":4, \"Kwon\":3, \"Soo\":5 },\n",
    "             \"Mask Girl\" : {\"Misoo\":3, \"David\":4, \"Soo\":4 },\n",
    "             \"Oppenheimer\": {\"Kwon\":3, \"Bob\":3, \"David\":4 }}\n",
    "#Calculate Moving's average\n",
    "Moving = ratings[\"Moving\"]\n",
    "Value_1 = Moving.values()\n",
    "Average_1 = sum(Value_1)/len(Value_1)\n",
    "#Calculate Mask Girl's average\n",
    "Mask_Girl = ratings[\"Mask Girl\"]\n",
    "Value_2 = Mask_Girl.values()\n",
    "Average_2 = sum(Value_2)/len(Value_2)\n",
    "#Calculate Oppenheimer's average\n",
    "Oppenheimer = ratings[\"Oppenheimer\"]\n",
    "Value_3 = Oppenheimer.values()\n",
    "Average_3 = sum(Value_3)/len(Value_3)\n",
    "#pick up the Movie names from dictionary\n",
    "Name = ratings.keys()\n",
    "Name = list(Name)\n",
    "#Making the result\n",
    "print(\"Name: \", Name[0] , \"/\" , \"average: \", Average_1)\n",
    "print(\"Name: \", Name[1] , \"/\" , \"average: \", Average_2)\n",
    "print(\"Name: \", Name[2] , \"/\" , \"average: \", Average_3)"
   ]
  },
  {
   "cell_type": "code",
   "execution_count": 40,
   "metadata": {},
   "outputs": [
    {
     "name": "stdout",
     "output_type": "stream",
     "text": [
      "Enter user1's 1st friend name : 철수\n",
      "Enter user1's 2nd friend name : 영수\n",
      "Enter user1's 3rd friend name : 영희\n",
      "Enter user2's 1st friend name : 철희\n",
      "Enter user2's 2nd friend name : 영수\n",
      "Enter user2's 3rd friend name : 동수\n",
      "All friend:  영희 영수 동수 철수 철희\n"
     ]
    }
   ],
   "source": [
    "#Set_define the set\n",
    "user1_friend = set()\n",
    "user2_friend = set()\n",
    "\n",
    "#Ask for the names of three friends for user 1 and store them in a set\n",
    "user1_friend.add(input(\"Enter user1's 1st friend name : \"))\n",
    "user1_friend.add(input(\"Enter user1's 2nd friend name : \"))\n",
    "user1_friend.add(input(\"Enter user1's 3rd friend name : \"))\n",
    "\n",
    "#Ask for the names of three friends for user 2 and store them in a set\n",
    "user2_friend.add(input(\"Enter user2's 1st friend name : \"))\n",
    "user2_friend.add(input(\"Enter user2's 2nd friend name : \"))\n",
    "user2_friend.add(input(\"Enter user2's 3rd friend name : \"))\n",
    "\n",
    "print(\"All friend: \", *(user1_friend | user2_friend))"
   ]
  },
  {
   "cell_type": "code",
   "execution_count": null,
   "metadata": {},
   "outputs": [],
   "source": []
  }
 ],
 "metadata": {
  "kernelspec": {
   "display_name": "Python 3",
   "language": "python",
   "name": "python3"
  },
  "language_info": {
   "codemirror_mode": {
    "name": "ipython",
    "version": 3
   },
   "file_extension": ".py",
   "mimetype": "text/x-python",
   "name": "python",
   "nbconvert_exporter": "python",
   "pygments_lexer": "ipython3",
   "version": "3.8.3"
  }
 },
 "nbformat": 4,
 "nbformat_minor": 4
}
