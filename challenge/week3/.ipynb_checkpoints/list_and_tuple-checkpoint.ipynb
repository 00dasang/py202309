{
 "cells": [
  {
   "cell_type": "code",
   "execution_count": 7,
   "metadata": {},
   "outputs": [
    {
     "name": "stdout",
     "output_type": "stream",
     "text": [
      "Enter 1st number: 50\n",
      "Enter 2nd number: 40\n",
      "Enter 3rd number: 90\n",
      "Enter 4th number: 10\n",
      "Enter 5th number: 30\n",
      "max:  90\n",
      "min:  10\n",
      "average:  44.0\n"
     ]
    }
   ],
   "source": [
    "#case라는 list를 생성한다.\n",
    "case = [0,0,0,0,0]\n",
    "#list에 값들을 추가한다.\n",
    "case[0] = int(input(\"Enter 1st number: \"))\n",
    "case[1] = int(input(\"Enter 2nd number: \"))\n",
    "case[2] = int(input(\"Enter 3rd number: \"))\n",
    "case[3] = int(input(\"Enter 4th number: \"))\n",
    "case[4] = int(input(\"Enter 5th number: \"))\n",
    "#case list의 최댓값을 구하고 출력한다\n",
    "print(\"max: \",max(case))\n",
    "#case list의 최솟값을 구하고 출력한다\n",
    "print(\"min: \",min(case))\n",
    "#case list의 평균을 구하고 출력한다\n",
    "print(\"average: \",sum(case)/5)"
   ]
  },
  {
   "cell_type": "code",
   "execution_count": 1,
   "metadata": {},
   "outputs": [
    {
     "name": "stdout",
     "output_type": "stream",
     "text": [
      "What is your favorite singer?Ovan\n",
      "['Dasut', 'Nell', 'Ovan']\n"
     ]
    }
   ],
   "source": [
    "#2명의 가수 이름이 있는 list를 생성한다\n",
    "singer = ['Nell','Dasut',]\n",
    "#사용자의 가장 좋아하는 가수 이름을 물어보고 list에 추가한다.\n",
    "user_singer = input(\"What is your favorite singer?\")\n",
    "singer.append(user_singer)\n",
    "singer.sort()\n",
    "print(singer)"
   ]
  },
  {
   "cell_type": "code",
   "execution_count": null,
   "metadata": {},
   "outputs": [],
   "source": []
  }
 ],
 "metadata": {
  "kernelspec": {
   "display_name": "Python 3 (ipykernel)",
   "language": "python",
   "name": "python3"
  },
  "language_info": {
   "codemirror_mode": {
    "name": "ipython",
    "version": 3
   },
   "file_extension": ".py",
   "mimetype": "text/x-python",
   "name": "python",
   "nbconvert_exporter": "python",
   "pygments_lexer": "ipython3",
   "version": "3.11.5"
  }
 },
 "nbformat": 4,
 "nbformat_minor": 4
}
