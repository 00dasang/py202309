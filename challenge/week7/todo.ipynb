{
 "cells": [
  {
   "cell_type": "code",
   "execution_count": 1,
   "metadata": {},
   "outputs": [
    {
     "ename": "SyntaxError",
     "evalue": "invalid syntax (<ipython-input-1-8bbeb7a288d6>, line 9)",
     "output_type": "error",
     "traceback": [
      "\u001b[1;36m  File \u001b[1;32m\"<ipython-input-1-8bbeb7a288d6>\"\u001b[1;36m, line \u001b[1;32m9\u001b[0m\n\u001b[1;33m    def load_tasks_from_file(\"task.txt\"):\u001b[0m\n\u001b[1;37m                             ^\u001b[0m\n\u001b[1;31mSyntaxError\u001b[0m\u001b[1;31m:\u001b[0m invalid syntax\n"
     ]
    }
   ],
   "source": [
    "def add_task(task_list, task):\n",
    "    fp = open(\"task.txt\",\"a\", encoding=\"utf-8\")\n",
    "    \n",
    "def display_tasks(task_list):\n",
    "    fp = open(\"task.txt\",\"r\", encoding=\"utf-8\")\n",
    "    data_lines= fp.readlines()\n",
    "    print(data_lines)\n",
    "    \n",
    "def load_tasks_from_file(\"task.txt\"):\n",
    "    task_list = []\n",
    "    fp = \n",
    "    return task_list\n",
    "    \n",
    "file_name = \"task.txt\"\n",
    "task_list = load_tasks_from_file(\"task.txt\")\n",
    "\n",
    "while True:\n",
    "    print(\"\\n할일 관리 프로그램\")\n",
    "    print(\"1. 할일 추가\")\n",
    "    print(\"2. 할일 목록 표시\")\n",
    "    print(\"3. 종료\")\n",
    "\n",
    "    choice = input(\"선택: \")\n",
    "\n",
    "    if choice == '1':\n",
    "        task = input(\"할일을 입력하세요: \")\n",
    "        add_task(task_list, task)\n",
    "        print(\"할일이 추가되었습니다.\")\n",
    "    elif choice == '2':\n",
    "        display_tasks(task_list)\n",
    "    elif choice == '3':\n",
    "        save_tasks_to_file(task_list, file_name)\n",
    "        print(\"프로그램을 종료합니다.\")\n",
    "        break\n",
    "    else:\n",
    "        print(\"잘못된 선택입니다. 다시 시도하세요.\")\n",
    "        \n"
   ]
  }
 ],
 "metadata": {
  "kernelspec": {
   "display_name": "Python 3",
   "language": "python",
   "name": "python3"
  },
  "language_info": {
   "codemirror_mode": {
    "name": "ipython",
    "version": 3
   },
   "file_extension": ".py",
   "mimetype": "text/x-python",
   "name": "python",
   "nbconvert_exporter": "python",
   "pygments_lexer": "ipython3",
   "version": "3.8.3"
  }
 },
 "nbformat": 4,
 "nbformat_minor": 4
}
