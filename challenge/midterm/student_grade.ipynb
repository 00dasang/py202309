{
 "cells": [
  {
   "cell_type": "code",
   "execution_count": 1,
   "id": "86a2d0f8",
   "metadata": {},
   "outputs": [],
   "source": [
    "#HW_Student_grade_management"
   ]
  },
  {
   "cell_type": "code",
   "execution_count": 1,
   "id": "2b54ba54",
   "metadata": {},
   "outputs": [
    {
     "name": "stdout",
     "output_type": "stream",
     "text": [
      "-----학생들의 평균 점수-----\n",
      "실바의 평균 점수는 73.66666666666667 입니다.\n",
      "산토스의 평균 점수는 86.93333333333334 입니다.\n",
      "맥그리거의 평균 점수는 85.7 입니다.\n",
      "알도의 평균 점수는 85.43333333333332 입니다.\n",
      "로우지의 평균 점수는 83.10000000000001 입니다.\n",
      "누네스의 평균 점수는 85.93333333333334 입니다.\n"
     ]
    }
   ],
   "source": [
    "#readlines the file\n",
    "lines = open(\"student.csv\",\"r\",encoding=\"utf8\").readlines()\n",
    "\n",
    "# 1.1 To do 1 _ save the student's grade in dictionary\n",
    "\n",
    "students_grade = {}\n",
    "\n",
    "for line in lines[1:]:\n",
    "    separate_lines = line.strip().split(\",\")\n",
    "    student_name = separate_lines[0]\n",
    "    grades = []\n",
    "    for grade_str in separate_lines[1:]:\n",
    "        try:\n",
    "            grade = float(grade_str)\n",
    "            grades.append(grade)\n",
    "        except ValueError:\n",
    "            print(f'{student_name}의 성적 중 올바르지 않은 형식의 값이 있습니다')\n",
    "            \n",
    "    students_grade[student_name] = grades\n",
    "\n",
    "\n",
    "# 1.2 To do 2 _ print the average score\n",
    "\n",
    "print(\"-----학생들의 평균 점수-----\")\n",
    "for student,grades in students_grade.items():\n",
    "    average = sum(grades)/len(grades)\n",
    "    print(f'{student}의 평균 점수는 {average} 입니다.')\n",
    "\n",
    "# 1.3 To do 3 _ make the result file\n",
    "result_file = open(\"average.txt\",\"w\",encoding=\"utf8\")\n",
    "result_file.write(\"-----학생들의 평균 점수-----\\n\")\n",
    "for student,grades in students_grade.items():\n",
    "    average = sum(grades)/len(grades)\n",
    "    result_file.write(f'{student}의 평균 점수는 {average} 입니다.\\n')\n",
    "result_file.close()\n",
    "\n",
    "#define the functions and call them\n",
    "\n",
    "# 2.1 function_loadData\n",
    "def loadData(lines):\n",
    "    students_grade = {}\n",
    "    \n",
    "    for line in lines[1:]:\n",
    "        separate_lines = line.strip().split(\",\")\n",
    "        student_name = separate_lines[0]\n",
    "        grades = []\n",
    "        for grade_str in separate_lines[1:]:\n",
    "            try:\n",
    "                grade = float(grade_str)\n",
    "                grades.append(grade)\n",
    "            except ValueError:\n",
    "                print(f'{student_name}의 성적 중 올바르지 않은 형식의 값이 있습니다')\n",
    "            \n",
    "        students_grade[student_name] = grades\n",
    "    \n",
    "    return students_grade\n",
    "\n",
    "# 2.2 function_getAverage\n",
    "def getAverage(students_grade):\n",
    "    print(\"-----학생들의 평균 점수-----\")\n",
    "    averages = []\n",
    "    for student,grades in students_grade.items():\n",
    "        average = sum(grades)/len(grades)\n",
    "        averages.append((student, average))\n",
    "    \n",
    "    return averages\n"
   ]
  },
  {
   "cell_type": "code",
   "execution_count": 2,
   "id": "ba9afb73",
   "metadata": {},
   "outputs": [
    {
     "name": "stdout",
     "output_type": "stream",
     "text": [
      "{'실바': [50.0, 80.5, 90.5], '산토스': [70.8, 90.0, 100.0], '맥그리거': [90.5, 70.8, 95.8], '알도': [80.5, 90.7, 85.1], '로우지': [60.8, 88.5, 100.0], '누네스': [88.8, 98.5, 70.5]}\n"
     ]
    }
   ],
   "source": [
    "# call_the_functions\n",
    "result_loadData = loadData(lines)\n",
    "print(result_loadData)"
   ]
  },
  {
   "cell_type": "code",
   "execution_count": 3,
   "id": "921ae667",
   "metadata": {},
   "outputs": [
    {
     "name": "stdout",
     "output_type": "stream",
     "text": [
      "-----학생들의 평균 점수-----\n",
      "[('실바', 73.66666666666667), ('산토스', 86.93333333333334), ('맥그리거', 85.7), ('알도', 85.43333333333332), ('로우지', 83.10000000000001), ('누네스', 85.93333333333334)]\n"
     ]
    }
   ],
   "source": [
    "# call_the_functions_2\n",
    "result_getAverage = getAverage(students_grade)\n",
    "print(result_getAverage)"
   ]
  }
 ],
 "metadata": {
  "kernelspec": {
   "display_name": "Python 3 (ipykernel)",
   "language": "python",
   "name": "python3"
  },
  "language_info": {
   "codemirror_mode": {
    "name": "ipython",
    "version": 3
   },
   "file_extension": ".py",
   "mimetype": "text/x-python",
   "name": "python",
   "nbconvert_exporter": "python",
   "pygments_lexer": "ipython3",
   "version": "3.11.5"
  }
 },
 "nbformat": 4,
 "nbformat_minor": 5
}
