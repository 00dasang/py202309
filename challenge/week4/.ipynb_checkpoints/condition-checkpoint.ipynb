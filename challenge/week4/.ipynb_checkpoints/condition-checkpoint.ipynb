{
 "cells": [
  {
   "cell_type": "code",
   "execution_count": 2,
   "metadata": {},
   "outputs": [
    {
     "name": "stdout",
     "output_type": "stream",
     "text": [
      "Is it raining?(Y/N)y\n",
      "Is it windy?(Y/N)n\n",
      "Take an umbrella\n"
     ]
    }
   ],
   "source": [
    "#Program. Have a nice day!\n",
    "\n",
    "#Initialize variables\n",
    "rain, wind = '', ''\n",
    "\n",
    "#get the answer from users\n",
    "rain = input(\"Is it raining?(Y/N)\").lower()\n",
    "wind = input(\"Is it windy?(Y/N)\").lower()\n",
    "\n",
    "#decide the weather\n",
    "if rain == 'y' and wind == 'y':\n",
    "    print(\"It is too windy for an umbrella.\")\n",
    "\n",
    "elif rain == 'y' and wind == 'n':\n",
    "    print(\"Take an umbrella\")\n",
    "\n",
    "elif rain == 'n' and wind == 'y':\n",
    "    print(\"Please take a coat\")\n",
    "\n",
    "elif rain == 'n' and wind == 'n':\n",
    "    print(\"Have a nice day\")\n",
    "\n",
    "elif rain != 'n' or rain != 'y' or wind != 'n' or wind != 'y':\n",
    "    print(\"Incorrect Input\")"
   ]
  },
  {
   "cell_type": "code",
   "execution_count": null,
   "metadata": {},
   "outputs": [],
   "source": []
  }
 ],
 "metadata": {
  "kernelspec": {
   "display_name": "Python 3 (ipykernel)",
   "language": "python",
   "name": "python3"
  },
  "language_info": {
   "codemirror_mode": {
    "name": "ipython",
    "version": 3
   },
   "file_extension": ".py",
   "mimetype": "text/x-python",
   "name": "python",
   "nbconvert_exporter": "python",
   "pygments_lexer": "ipython3",
   "version": "3.11.5"
  }
 },
 "nbformat": 4,
 "nbformat_minor": 4
}
