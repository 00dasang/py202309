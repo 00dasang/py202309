{
 "cells": [
  {
   "cell_type": "code",
   "execution_count": 5,
   "metadata": {},
   "outputs": [
    {
     "name": "stdout",
     "output_type": "stream",
     "text": [
      "Is it raining?do\n",
      "Is it windy?do\n",
      "Incorrect Input\n"
     ]
    }
   ],
   "source": [
    "#Program. Have a nice day!\n",
    "\n",
    "rain = input(\"Is it raining?\")\n",
    "wind = input(\"Is it windy?\")\n",
    "\n",
    "if rain == 'y' and wind == 'y':\n",
    "    print(\"It is too windy for an umbrella.\")\n",
    "\n",
    "elif rain == 'y' and wind == 'n':\n",
    "    print(\"Take an umbrella\")\n",
    "\n",
    "elif rain == 'n' and wind == 'y':\n",
    "    print(\"Please take a coat\")\n",
    "\n",
    "elif rain == 'n' and wind == 'n':\n",
    "    print(\"Have a nice day\")\n",
    "\n",
    "elif rain != 'n' or rain != 'y' or wind != 'n' or wnid != 'y':\n",
    "    print(\"Incorrect Input\")"
   ]
  },
  {
   "cell_type": "code",
   "execution_count": null,
   "metadata": {},
   "outputs": [],
   "source": []
  }
 ],
 "metadata": {
  "kernelspec": {
   "display_name": "Python 3",
   "language": "python",
   "name": "python3"
  },
  "language_info": {
   "codemirror_mode": {
    "name": "ipython",
    "version": 3
   },
   "file_extension": ".py",
   "mimetype": "text/x-python",
   "name": "python",
   "nbconvert_exporter": "python",
   "pygments_lexer": "ipython3",
   "version": "3.8.3"
  }
 },
 "nbformat": 4,
 "nbformat_minor": 4
}
